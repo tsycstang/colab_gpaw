{
  "nbformat": 4,
  "nbformat_minor": 0,
  "metadata": {
    "colab": {
      "name": "gpaw_calc.ipynb",
      "version": "0.3.2",
      "provenance": [],
      "collapsed_sections": [],
      "include_colab_link": true
    },
    "kernelspec": {
      "name": "python3",
      "display_name": "Python 3"
    }
  },
  "cells": [
    {
      "cell_type": "markdown",
      "metadata": {
        "id": "view-in-github",
        "colab_type": "text"
      },
      "source": [
        "<a href=\"https://colab.research.google.com/github/tsycstang/colab_gpaw/blob/master/gpaw_calc.ipynb\" target=\"_parent\"><img src=\"https://colab.research.google.com/assets/colab-badge.svg\" alt=\"Open In Colab\"/></a>"
      ]
    },
    {
      "cell_type": "markdown",
      "metadata": {
        "id": "ps-vu_KJY8W4",
        "colab_type": "text"
      },
      "source": [
        "This provides a better alternative installation with scalapack."
      ]
    },
    {
      "cell_type": "code",
      "metadata": {
        "id": "Eo70U92W9c7M",
        "colab_type": "code",
        "colab": {}
      },
      "source": [
        "#from google.colab import drive\n",
        "#drive.mount('/content/gdrive')\n",
        "!sudo apt install python3-dev libopenblas-dev liblapack-dev libxc-dev libscalapack-mpi-dev libblacs-mpi-dev scalapack-doc\n",
        "!pip install ase\n",
        "#!pip install gpaw\n",
        "!wget https://pypi.org/packages/source/g/gpaw/gpaw-1.5.2.tar.gz\n",
        "!tar -xf /content/gpaw-1.5.2.tar.gz\n",
        "%cd gpaw-1.5.2\n",
        "!sed -i \"s/scalapack = False/scalapack = True/\" customize.py\n",
        "!python setup.py install\n",
        "!gpaw install-data /content/gpaw-data\n",
        "!gpaw info\n",
        "!gpaw-python -m gpaw info"
      ],
      "execution_count": 0,
      "outputs": []
    }
  ]
}